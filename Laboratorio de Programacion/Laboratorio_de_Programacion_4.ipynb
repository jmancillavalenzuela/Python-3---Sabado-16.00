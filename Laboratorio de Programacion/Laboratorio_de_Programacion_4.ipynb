{
 "cells": [
  {
   "cell_type": "markdown",
   "metadata": {},
   "source": [
    "# Clase 5 - Laboratorio"
   ]
  },
  {
   "cell_type": "markdown",
   "metadata": {},
   "source": [
    "Ya estamos en la parte en que vamos a ver algunos algoritmos clásicos que es necesario que domines a la perfección"
   ]
  },
  {
   "cell_type": "markdown",
   "metadata": {},
   "source": [
    "## Implementando el mayor\n",
    "\n",
    "Ya revisamos el algoritmo básico:\n",
    "\n",
    "<img src=\"http://tongoy.ucn.cl/img/i/5/0/502f823e0c8dfda7f75fba1a1e70e631fb4a47575eb2c07924a1f5e596991a01.png\">\n",
    "\n",
    "Ahora te toca implementarlo:"
   ]
  },
  {
   "cell_type": "code",
   "execution_count": 16,
   "metadata": {},
   "outputs": [],
   "source": [
    "# Escribe tu código acá\n"
   ]
  },
  {
   "cell_type": "markdown",
   "metadata": {},
   "source": [
    "* Si ingresamos los números 4, 5, 1 y 0, ¿qué resultado te entrega?\n",
    "* Si los ingresamos en el orden inverso, ¿cambia el resultado?\n",
    "* Si ingresamos un -1 como primer elemento, ¿qué pasa?\n",
    "  * Corrige el código para que si esto sucede, diga \"no se puede calcular el número mayor\"\n"
   ]
  },
  {
   "cell_type": "markdown",
   "metadata": {},
   "source": [
    "## Implementando el menor\n",
    "\n",
    "Ya revisamos el algoritmo básico:\n",
    "\n",
    "<img src=\"http://tongoy.ucn.cl/img/i/f/d/fd9d1322562dc8b0a22f8fc6374d58c1c304e2ee0fb1c9097c9899618e739821.png\">\n",
    "\n",
    "Ahora te toca implementarlo:"
   ]
  },
  {
   "cell_type": "code",
   "execution_count": 17,
   "metadata": {},
   "outputs": [],
   "source": [
    "# Escribe tu código acá\n"
   ]
  },
  {
   "cell_type": "markdown",
   "metadata": {},
   "source": [
    "* Si ingresamos los números 4, 5, 1 y 0, ¿qué resultado te entrega?\n",
    "* Si los ingresamos en el orden inverso, ¿cambia el resultado?\n",
    "* Si ingresamos un -1 como primer elemento, ¿qué pasa?\n",
    "  * Corrige el código para que si esto sucede, diga \"no se puede calcular el número menor\"\n",
    "  \n",
    "* ¿Qué pasa si ingresamos 100, 1000, 700?"
   ]
  },
  {
   "cell_type": "markdown",
   "metadata": {},
   "source": [
    "## Implementando el promedio\n",
    "\n",
    "Ya revisamos el algoritmo básico:\n",
    "\n",
    "<img src=\"http://tongoy.ucn.cl/img/i/5/4/54010b16643fa56b270fc2d002821394b8c9894f1726adaf25e3b126f7e952d9.png\">\n",
    "\n",
    "Ahora te toca implementarlo:"
   ]
  },
  {
   "cell_type": "code",
   "execution_count": 18,
   "metadata": {},
   "outputs": [],
   "source": [
    "# Escribe tu código acá\n"
   ]
  },
  {
   "cell_type": "markdown",
   "metadata": {},
   "source": [
    "* Si ingresamos los números 4, 5, 1 y 0, ¿qué resultado te entrega?\n",
    "* Si los ingresamos en el orden inverso, ¿cambia el resultado?\n",
    "* Si ingresamos un -1 como primer elemento, ¿qué pasa?\n",
    "  * Corrige el código para que si esto sucede, diga \"no se puede calcular el promedio\""
   ]
  },
  {
   "cell_type": "markdown",
   "metadata": {},
   "source": [
    "## Implementando el cálculo del porcentaje\n",
    "\n",
    "Ya revisamos el algoritmo básico:\n",
    "\n",
    "<img src=\"http://tongoy.ucn.cl/img/i/6/a/6a7364fc16c47d3b20275ff2b7fd5cb9e205749ad10d26db493594e452843310.png\">\n",
    "\n",
    "Ahora te toca implementarlo:"
   ]
  },
  {
   "cell_type": "code",
   "execution_count": 19,
   "metadata": {},
   "outputs": [],
   "source": [
    "# Escribe tu código acá\n"
   ]
  },
  {
   "cell_type": "markdown",
   "metadata": {},
   "source": [
    "* Si ingresamos las notas 1.7, 4.4, 5.5, 2.2, 3.9 y 7.0, ¿qué resultado te entrega?\n",
    "* Si los ingresamos en el orden inverso, ¿cambia el resultado?\n",
    "* Si ingresamos un -1 como primer elemento, ¿qué pasa?\n",
    "  * Corrige el código para que si esto sucede, diga \"no se puede realizar el cálculo\""
   ]
  },
  {
   "attachments": {},
   "cell_type": "markdown",
   "metadata": {},
   "source": [
    "## El mayor (mejorado)\n",
    "\n",
    "Ya revisamos el algoritmo básico:\n",
    "\n",
    "<img src=\"http://tongoy.ucn.cl/img/i/0/7/0776613c358232b35bb6d40252511549370d2a85f1162b08e8bc791fd932309f.png\" >\n",
    "\n",
    "Ahora te toca implementarlo:"
   ]
  },
  {
   "cell_type": "code",
   "execution_count": 20,
   "metadata": {},
   "outputs": [],
   "source": [
    "# Escribe tu código acá\n"
   ]
  },
  {
   "cell_type": "markdown",
   "metadata": {},
   "source": [
    "* Si ingresamos estos datos ¿qué resultado te entrega?\n",
    "  * 40 juan\n",
    "  * 30 pedro\n",
    "  * 21 maria\n",
    "  * 75 jose\n",
    "* Si los ingresamos en el orden inverso, ¿cambia el resultado?\n",
    "* Si ingresamos un -1 como primer elemento, ¿qué pasa?\n",
    "  * Corrige el código para que si esto sucede, diga \"no se puede calcular el número mayor\""
   ]
  },
  {
   "cell_type": "markdown",
   "metadata": {},
   "source": [
    "# Desafío 1: El mayor, mejorado x 2"
   ]
  },
  {
   "cell_type": "markdown",
   "metadata": {},
   "source": [
    "En el caso del cálculo del mayor, es un poco antinatural ingresar los datos así (edad, nombre).\n",
    "\n",
    "Sería mucho mejor ingresarlos de forma que primero se escriba el nombre de la persona y después su edad.\n",
    "\n",
    "Dibuja (en un papel) un diagrama de flujo para que se calcule el mayor, pero ingresando primero el nombre de la persona y después su edad.\n",
    "\n",
    "Una vez que lo tengas pensado, impleméntalo:"
   ]
  },
  {
   "cell_type": "code",
   "execution_count": 21,
   "metadata": {},
   "outputs": [],
   "source": [
    "# Escribe tu código acá\n"
   ]
  },
  {
   "cell_type": "markdown",
   "metadata": {},
   "source": [
    "* ¿Qué hiciste para marcar el fin del ingreso de datos?\n",
    "* ¿Qué pasa si no se ingresa ningún valor?"
   ]
  },
  {
   "cell_type": "markdown",
   "metadata": {},
   "source": [
    "# Desafío 2"
   ]
  },
  {
   "cell_type": "markdown",
   "metadata": {},
   "source": [
    "Modifica el algoritmo del cálculo del porcentaje, para que funcione como en este ejemplo:\n",
    "\n",
    "    Ingrese nombre: pedro\n",
    "    Ingrese nota: 5.5\n",
    "    Ingrese nombre: juan\n",
    "    Ingrese nota: 4.5\n",
    "    Ingrese nombre: juan\n",
    "    Ingrese nota: 6.5\n",
    "    Ingrese nombre: pedro\n",
    "    Ingrese nota: 3.5\n",
    "    Ingrese nombre: juan\n",
    "    Ingrese nota: 3.5\n",
    "    Ingrese nombre: juan\n",
    "    Ingrese nota: 5.5\n",
    "    Ingrese nombre: FIN\n",
    "    \n",
    "    Total de notas ingresadas: 6\n",
    "    Cantidad de notas mayores o iguales a 4.0: 4 (66%)\n",
    "        La menor fue: 4.5 (juan)\n",
    "    Cantidad de notas menores a 4.0: 2 (33%)\n",
    "        La mayor fue: 3.5 (pedro)\n",
    "        \n"
   ]
  },
  {
   "cell_type": "code",
   "execution_count": 22,
   "metadata": {},
   "outputs": [],
   "source": [
    "# Escribe tu código acá\n"
   ]
  },
  {
   "cell_type": "markdown",
   "metadata": {},
   "source": [
    "# Desafío 3\n",
    "\n",
    "En la sala de clase las personas tienen 4 características de interés (en este caso):\n",
    "* Nombre\n",
    "* Edad\n",
    "* Estatura\n",
    "* Peso\n",
    "\n",
    "Estamos muy interesados mantener a los estudiantes sanos, para que se saquen buenas notas. Para eso, a cada estudiante le calcularemos un indicador llamado el Índice de Masa Corporal, que tiene esta fórmula:\n",
    "\n",
    "$ IMC = \\frac{masa}{estatura^2}$\n",
    "\n",
    "donde la masa se mide en kilogramos, y la estatura en metros.\n",
    "\n",
    "Construya un programa que pregunte las 4 características, y que indique la cantidad y porcentaje de estudiantes (respecto al total general) que está en cada uno de los rangos de interés:\n",
    "\n",
    "| Rango      | Descripción |\n",
    "|------------|-------------|\n",
    "| <18.50     | bajo peso   |\n",
    "| 18.5 - <25 | normal      |\n",
    "| 25 - <30   | preobeso    |\n",
    "| ≥30        | obeso       |\n",
    "\n"
   ]
  },
  {
   "cell_type": "code",
   "execution_count": 23,
   "metadata": {},
   "outputs": [],
   "source": [
    "# Escribe tu código acá\n"
   ]
  },
  {
   "cell_type": "markdown",
   "metadata": {},
   "source": [
    "# Desafío 4\n",
    "\n",
    "El bachillerato es un juego relativamente antiguo, en que un grupo de personas compite para ser el primero en escribir palabras que comiencen con una cierta letra.\n",
    "\n",
    "Estas palabras se eligen según categorías predefinidas (por ejemplo, animal, color, verdura), y se ganan puntos a medida que las palabras se escriben correctamente.\n",
    "\n",
    "En el caso de este desafío, debes construir un programa para jugar una versión simplificada para dos jugadores.\n",
    "\n",
    "El programa debe comenzar preguntando el nombre de los dos jugadores.\n",
    "\n",
    "Después, debe preguntar de forma separada dos respuestas (una para cada jugador). Si alguna de estas respuestas es `x`, significa que el jugador correspondiente no contestó.\n",
    "\n",
    "Cada vez que se leen las respuestas de los jugadores, éstos ganan puntaje, de la siguiente forma:\n",
    "* Si ambos contestaron, cada uno gana 100 puntos\n",
    "* Si ninguno contestó, no ganan puntos\n",
    "* Si solo uno contesta, el que contesta gana 150 puntos\n",
    "\n",
    "El programa debe continuar recibiendo las respuestas de los jugadores hasta que alguno llegue a los 300 puntos. En caso de que ambos obtengan 300 puntos en forma simultánea, se declara un empate.\n",
    "\n",
    "Por ejemplo:\n",
    "\n",
    "    Ingresa el nombre del jugador 1: Pedro\n",
    "    Ingresa el nombre del jugador 2: Juan\n",
    "    \n",
    "    Respuesta 1: Perro\n",
    "    Respuesta 2: Gato\n",
    "    \n",
    "    Respuesta 1: Blanco\n",
    "    Respuesta 2: Beige\n",
    "    \n",
    "    Respuesta 1: Durazno\n",
    "    Respuesta 2: x\n",
    "    \n",
    "    Gana Pedro!\n",
    "    \n",
    "***OJO: Tu programa no debe verificar si las letras de las respuestas coinciden. Solamente debe verificar si se escribió una respuesta o no.***\n",
    "\n",
    "Dibuja el diagrama de flujo para solucionar el problema, y después escribe tu código:"
   ]
  },
  {
   "cell_type": "code",
   "execution_count": 15,
   "metadata": {},
   "outputs": [],
   "source": [
    "# Escribe tu código acá\n"
   ]
  }
 ],
 "metadata": {
  "kernelspec": {
   "display_name": "Python 3",
   "language": "python",
   "name": "python3"
  },
  "language_info": {
   "codemirror_mode": {
    "name": "ipython",
    "version": 3
   },
   "file_extension": ".py",
   "mimetype": "text/x-python",
   "name": "python",
   "nbconvert_exporter": "python",
   "pygments_lexer": "ipython3",
   "version": "3.6.2"
  }
 },
 "nbformat": 4,
 "nbformat_minor": 2
}
