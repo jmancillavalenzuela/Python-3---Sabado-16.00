{
 "cells": [
  {
   "cell_type": "markdown",
   "metadata": {},
   "source": [
    "# Laboratorio 2 de Programación - Clase 3\n",
    "\n",
    "En la clase anterior pudiste conocer, de manera general, los elementos básicos de programación necesarios para resolver problemas utilizando Python. **No te preocupes si no entendiste todo, en las siguientes clases profundizaremos cada uno de los tópicos vistos en la clase anterior**.\n",
    "\n",
    "Antes de comenzar, vamos a repasar algunos conceptos claves de programación antes de realizar los ejercicios:"
   ]
  },
  {
   "cell_type": "markdown",
   "metadata": {},
   "source": [
    "# Conceptos clave:\n",
    "\n",
    "**1. Jupyter Notebook:** es un entorno interactivo que permite a los usuarios crear documentos en un \"cuaderno\" o notebook el cual puede incluir:\n",
    "* Código \n",
    "* Widgets interactivos \n",
    "* Gráficos\n",
    "* Texto narrativo\n",
    "* Ecuaciones\n",
    "* Imágenes\n",
    "* Video\n",
    "\n",
    "**2. Python:** es un lenguaje de programación de muy alto nivel el cual nos permitirá escribir nuestros programas y ejecutarlos en la máquina (computador)\n",
    "\n",
    "**3. IDE:** es un entorno de desarrollo integrado que, como su nombre lo dice, nos provee un ambiente para poder escribir, probar y ejecutar nuestros programas en el computador. En el curso utilizaremos Spyder\n",
    "\n",
    "**4. Anaconda:** es una distribución de los lenguajes de programación **Python** y **R** que incluye un conjunto de herramientas para el procesamiento de datos, construcción de programas, análisis científico, entre otros. Anaconda incluye la IDE de Spyder y Jupyter Notebook junto con otras herramientas"
   ]
  },
  {
   "cell_type": "markdown",
   "metadata": {},
   "source": [
    "# Resumen clase anterior\n",
    "\n",
    "En la clase anterior vimos los diferentes **tipos de datos** que podemos asignar a una variable. Estos tipos de datos son:\n",
    "* **Texto:** también conocidos como \"String\" son un conjunto de caracteres que conforman una palabra o texto. En Python se denotan con comillas simples o dobles\n",
    "* **Números:** los números enteros ó \"int\" como, por ejemplo, 23. Los números decimales ó \"float\" como, por ejemplo, 6.5.\n",
    "* **Booleanos:** es un tipo de dato especial que almacena un valor \"verdadero\" ó \"falso\" y se denotan por las palabras True ó False sin comillas.\n",
    "* **Listas:** son un tipo de variable que nos permiten almacenar más de un dato. Por ejemplo [5,6,7,8,9] ó [\"amarillo\",2,4,True]"
   ]
  },
  {
   "cell_type": "markdown",
   "metadata": {},
   "source": [
    "También vimos los **operadores de comparación ** como:\n",
    "* mayor que \">\"\n",
    "* menor que \"<\"\n",
    "* mayor ó igual \">=\"\n",
    "* menor ó igual \"<=\"\n",
    "* igual \"==\"\n",
    "* distinto \"!=\"\n"
   ]
  },
  {
   "cell_type": "markdown",
   "metadata": {},
   "source": [
    "Del mismo modo, existen los **operadores lógicos** que, al igual que en Álgebra evaluán si expresiones son verdaders o falsas. En concreto, utilizaremos el operador \"and\" y \"or\" cuyo resultado podríamos revisarlo en la siguiente \"tabla de verdad\" (*si no sabes qué es una tabla de verdad, puedes buscar en internet más detalles*):\n",
    "\n",
    "    (Operación lógica 1) or (Operación lógica 2) \n",
    "    (Operación lógica 1) and (Operación lógica 2) \n"
   ]
  },
  {
   "cell_type": "markdown",
   "metadata": {},
   "source": [
    "Finalmente, vimos los **condicionales** o \"if\" los cuales evaluan si una expresión lógica es verdadera o falsa.\n",
    "\n",
    "La estructura del comando es la siguiente: \n",
    "```\n",
    "if (expresión lógica) : \n",
    "    tarea que quiero realizar si la expresión lógica es correcta:\n",
    "else:\n",
    "    tarea que quiero realizar si la expresión lógica es incorrecta o FALSA:\n",
    "```       "
   ]
  },
  {
   "cell_type": "markdown",
   "metadata": {},
   "source": [
    "# ¡Comenzemos! ¿has escuchado hablar de REFINO?\n",
    "\n",
    "Antes de comenzar a codificar nuestro programa, es **muy recomendable desarrollar un refino de nuestra solución**. Las características de contar con un refino son:\n",
    "* Se \"refinan\" las tareas que necesitamos realizar\n",
    "* El refino sucesivo es la búsqueda de la solución de un problema, detallando nivel a nivel la solución, es decir, las tareas necesarias de realizar para llevar a cabo una función\n",
    "* Un problema determinado es separado funcionalmente en distintas tareas que permiten su solución.\n",
    "* Las tareas definidas, por su parte, pueden nuevamente ser detalladas en subniveles, que determinan un tercer nivel de solución.\n",
    "\n",
    "### Ejemplo 1 de refino:\n",
    "Supongamos que necesitamos leer dos notas desde teclado y desplegar el mayor ¿qué debemos hacer?\n",
    "\n",
    "\n",
    "    Paso 1: leer las dos notas\n",
    "    Paso 2: verificar cuál es la mayor\n",
    "    Paso 3: desplegar el resultado\n",
    "\n",
    "**¿muy simple verdad?** Hagamos uno más complejo"
   ]
  },
  {
   "cell_type": "markdown",
   "metadata": {},
   "source": [
    "### Ejemplo 2 de refino:\n",
    "Indicar si un alumno aprueba o reprueba a partir de tres notas\n",
    "\n",
    "    Paso 1: leer las tres notas\n",
    "            Paso 1.1 leer nota 1\n",
    "            Paso 1.2 leer nota 2\n",
    "            Paso 1.3 leer nota 3\n",
    "    \n",
    "    Paso 2: calcular promedio\n",
    "            Paso 2.1 sumar nota 1\n",
    "            Paso 2.2 sumar nota 2\n",
    "            Paso 2.3 sumar nota 3\n",
    "            Paso 2.4 dividir el resultado de la suma entre 3\n",
    "            \n",
    "    Paso 3: desplegar el resultado\n",
    "            Paso 2.1 si el promedio es menor o igual a 3.9 desplegar \"reprobado\"\n",
    "            Paso 2.2 si el promedio es mayor o igual a 4.0 desplegar \"aprobado\""
   ]
  },
  {
   "cell_type": "markdown",
   "metadata": {},
   "source": [
    "### Ejercicio 3 de refino: Ahora te toca a ti\n",
    "Indicar el promedio de alumnos inscritos por carrera. Considera que existen solo 7 carreras *(ayuda: piensa en los pasos lógicos que debes hacer para completar lo requerido)*"
   ]
  },
  {
   "cell_type": "markdown",
   "metadata": {},
   "source": [
    "    Escribe tu refino aquí"
   ]
  },
  {
   "cell_type": "markdown",
   "metadata": {},
   "source": [
    "# Lectura de datos desde pantalla y asignación de variables\n",
    "\n",
    "En la clase anterior aprendiste cómo declarar una variable y los tipos de datos que puede almacenar. Recuerda que **una variable es un espacio de memoria que puede almacer un dato específico**. El lugar en donde se guarda esa variable es la memoria RAM *(la memoria de lectura y escritura)*"
   ]
  },
  {
   "cell_type": "markdown",
   "metadata": {},
   "source": [
    "Hasta ahora, siempre que le asignábamos un valor a una variable, el valor estaba escrito directamente en el código.\n",
    "\n",
    "Pero escribir programas de esa forma no es muy útil: es mejor escribir programas que puedan interactuar con el usuario, y hacer cálculos basándonos en esos valores.\n",
    "\n",
    "¡Para eso, vamos a aprender cómo leer datos desde el teclado!"
   ]
  },
  {
   "cell_type": "markdown",
   "metadata": {},
   "source": [
    "## ¿Cómo podemos leer datos desde teclado o ingresados por el usuario?\n",
    "\n",
    "Para ello usamos la función **input()** cuyo propósito es entregarle un mensaje al usuario para que ingrese un dato. \n",
    "Volvamos al refino del ejercicio 1: indicar cuál es el mayor de dos notas, en este caso le pediremos al usuario que ingrese dichas calificaciones\n",
    "\n",
    "(Al ejecutar el código de la celda, recuerda presionar ENTER en el teclado para ingresar el siguiente valor)"
   ]
  },
  {
   "cell_type": "code",
   "execution_count": null,
   "metadata": {},
   "outputs": [],
   "source": [
    "nota1 = float(input(\"ingrese la calificación 1 \"))\n",
    "nota2 = float(input(\"ingrese la calificación 2 \"))"
   ]
  },
  {
   "cell_type": "markdown",
   "metadata": {},
   "source": [
    "Acabamos de ingresar dos valores, y cada uno quedó en una variable.\n",
    "\n",
    "¿Qué pasaría si tratáramos de desplegar las notas?"
   ]
  },
  {
   "cell_type": "code",
   "execution_count": null,
   "metadata": {},
   "outputs": [],
   "source": [
    "print(nota1)\n",
    "print(nota2)"
   ]
  },
  {
   "cell_type": "markdown",
   "metadata": {},
   "source": [
    "¡WOW! aparecieron los valores que ingresaste recién!\n",
    "\n",
    "**¿cómo pasó esto?** si te fijas la función \"input\" le está indicando al usuario que ingrese una nota. Esta nota se guardará dentro de la variable "
   ]
  },
  {
   "cell_type": "markdown",
   "metadata": {},
   "source": [
    "## ¿Qué es \"float\"?\n",
    "\n",
    "Es importante mencionar que la función **input** recibe los datos del usuario ingresados desde teclado. **Estos datos SIEMPRE se guardan como texto o string** por lo cual debemos \"transformarlos\" al tipo de dato que necesitamos, en nuestro caso, un decimal = float.\n",
    "\n",
    "Acabamos de hacer el Paso 1: \"leer las dos notas\" ¿cómo verificamos cuál es la mayor? \n",
    "\n",
    "**(ayuda: utiliza el condicional if)**"
   ]
  },
  {
   "cell_type": "markdown",
   "metadata": {},
   "source": [
    "# Ejercicio 1"
   ]
  },
  {
   "cell_type": "code",
   "execution_count": null,
   "metadata": {},
   "outputs": [],
   "source": [
    "# Escribe acá los pasos 2 y 3 del refino del ejercicio 1\n"
   ]
  },
  {
   "cell_type": "markdown",
   "metadata": {},
   "source": [
    "# Ejercicio 2"
   ]
  },
  {
   "cell_type": "markdown",
   "metadata": {},
   "source": [
    "Ahora realiza el ejercicio 2 guiándote por su refino"
   ]
  },
  {
   "cell_type": "code",
   "execution_count": null,
   "metadata": {},
   "outputs": [],
   "source": [
    "# Realiza aquí el código del ejercicio 2\n"
   ]
  },
  {
   "cell_type": "markdown",
   "metadata": {},
   "source": [
    "# Cómo se escribe el código"
   ]
  },
  {
   "cell_type": "markdown",
   "metadata": {},
   "source": [
    "Hasta ahora no te hemos dicho mucho acerca cómo se escribe el código, o qué pasa cuando el código es más largo que 5 o 10 líneas.\n",
    "\n",
    "El código siempre se ejecuta desde arriba hacia abajo, y es importante que aprendas tanto a escribir como a leer código.\n",
    "\n",
    "A continuación hay trozos de código. **NO LOS EJECUTES AUN.** Primero trata de leer el código y predecir el resultado que debería aparecer en la pantalla. Una vez que hayas hecho eso, ejecuta el código para ver si pudiste hacer bien esto.\n",
    "\n",
    "A este proceso le llamamos **rutear**. Si tu predicción no era correcta, lee **atentamente** el código hasta que te resulte."
   ]
  },
  {
   "cell_type": "markdown",
   "metadata": {},
   "source": [
    "### Ruteo 1"
   ]
  },
  {
   "cell_type": "code",
   "execution_count": null,
   "metadata": {},
   "outputs": [],
   "source": [
    "valor = 20\n",
    "if valor < 10:\n",
    "    print(\"es menor a 10\")\n",
    "if valor > 5:\n",
    "    print(\"es mayor a 5\")\n",
    "if valor > 0:\n",
    "    print(\"es mayor a cero\")"
   ]
  },
  {
   "cell_type": "markdown",
   "metadata": {},
   "source": [
    "### Ruteo 2"
   ]
  },
  {
   "cell_type": "code",
   "execution_count": null,
   "metadata": {},
   "outputs": [],
   "source": [
    "valor = 200\n",
    "if valor < 10:\n",
    "    print(\"es menor a 10\")\n",
    "if valor > 5:\n",
    "    print(\"es mayor a 5\")\n",
    "if valor > 0:\n",
    "    print(\"es mayor a cero\")\n",
    "else:\n",
    "    print(\"no es mayor a cero\")"
   ]
  },
  {
   "cell_type": "markdown",
   "metadata": {},
   "source": [
    "### Ruteo 3"
   ]
  },
  {
   "cell_type": "code",
   "execution_count": null,
   "metadata": {},
   "outputs": [],
   "source": [
    "valor = 2\n",
    "if valor < 10:\n",
    "    print(\"es menor a 10\")\n",
    "else:\n",
    "    print(\"es mayor o igual a 10\")\n",
    "    \n",
    "if valor > 5:\n",
    "    print(\"es mayor a 5\")\n",
    "else:\n",
    "    print(\"es menor o igual a 5\")\n",
    "    \n",
    "if valor > 0:\n",
    "    print(\"es mayor a cero\")\n",
    "else:\n",
    "    print(\"no es mayor a cero\")"
   ]
  },
  {
   "cell_type": "markdown",
   "metadata": {},
   "source": [
    "### Ruteo 4"
   ]
  },
  {
   "cell_type": "code",
   "execution_count": null,
   "metadata": {},
   "outputs": [],
   "source": [
    "nota1 = 2\n",
    "nota2 = 4\n",
    "nota3 = 3\n",
    "promedio = (nota1 + nota2 + nota3) / 3.0\n",
    "if promedio >= 4:\n",
    "    print(\"Aprobaste\")\n",
    "else:\n",
    "    if promedio >= 3.4:\n",
    "        print(\"Examen recuperativo\")\n",
    "    else:\n",
    "        print(\"Reprobaste\")"
   ]
  },
  {
   "cell_type": "markdown",
   "metadata": {},
   "source": [
    "# Problema 3"
   ]
  },
  {
   "cell_type": "markdown",
   "metadata": {},
   "source": [
    "Crea un programa que permita ingresar 3 notas desde el teclado (imagina que son las notas de las 3 pruebas de Programación), y que usando esas 3 notas calcule el promedio del curso. \n",
    "\n",
    "Se debe escribir el promedio, **pero** bonificando la nota final en 0.5 si todas las notas son mayores o iguales a cuatro."
   ]
  },
  {
   "cell_type": "code",
   "execution_count": null,
   "metadata": {},
   "outputs": [],
   "source": [
    "# Escribe acá tu solución\n",
    "\n"
   ]
  },
  {
   "cell_type": "markdown",
   "metadata": {},
   "source": [
    "Toma en consideración lo siguiente:\n",
    "\n",
    "* ¿Revisaste si tu solución está correcta?\n",
    "* ¿Probaste ingresando diferentes valores?\n",
    "* ¿Probaste simulando que las 3 notas son 7.0? ¿Qué valor debería resultar?\n",
    "* ¿Y si las 3 notas son 1.0? ¿Qué valor debería resultar?\n",
    "* ¿Y con un 7, un 7 y un 1? ¿Qué valor debería resultar?"
   ]
  },
  {
   "cell_type": "markdown",
   "metadata": {},
   "source": [
    "# Problema 4"
   ]
  },
  {
   "attachments": {
    "Captura5.PNG": {
     "image/png": "[encoded data removed]"
    }
   },
   "cell_type": "markdown",
   "metadata": {},
   "source": [
    "Usando las reglas de evaluación de la asignatura:\n",
    "\n",
    "![Captura5.PNG](attachment:Captura5.PNG)\n",
    "\n",
    "Escribe un programa que pregunte:\n",
    "* Las notas de la 3 pruebas\n",
    "* Las notas de 2 evaluaciones cortas (supongamos que en el semestre solamente se tomarán 2 pruebas cortas)\n",
    "* Las notas de los 2 talleres\n",
    "\n",
    "Con esos datos, calcula la nota final de la asignatura. Obviamente, si la nota no le alcanza para aprobar directamente, pero sí para el examen recuperativo, pregunta dicha nota antes de indicar si aprobó finalmente la asignatura o no.\n",
    "\n",
    "Pero antes, escribe la idea que tienes, refinándola hasta que estés conforme:\n"
   ]
  },
  {
   "cell_type": "code",
   "execution_count": null,
   "metadata": {},
   "outputs": [],
   "source": [
    "# Escribe acá tu refino\n"
   ]
  },
  {
   "cell_type": "markdown",
   "metadata": {},
   "source": [
    "Una vez que estés conforme con tu refino, escribe a continuación el código de tu solución.\n",
    "\n",
    "Recuerda pensar qué valores debería entregar tu solución: piensa en algunos casos, y calcula por ti mismo/a el resultado, para después comprobar si tu programa está entregando o no el resultado correcto."
   ]
  },
  {
   "cell_type": "code",
   "execution_count": null,
   "metadata": {},
   "outputs": [],
   "source": [
    "# Escribe acá tu solución\n"
   ]
  },
  {
   "cell_type": "code",
   "execution_count": null,
   "metadata": {},
   "outputs": [],
   "source": []
  }
 ],
 "metadata": {
  "kernelspec": {
   "display_name": "Python 3",
   "language": "python",
   "name": "python3"
  },
  "language_info": {
   "codemirror_mode": {
    "name": "ipython",
    "version": 3
   },
   "file_extension": ".py",
   "mimetype": "text/x-python",
   "name": "python",
   "nbconvert_exporter": "python",
   "pygments_lexer": "ipython3",
   "version": "3.6.2"
  }
 },
 "nbformat": 4,
 "nbformat_minor": 2
}
