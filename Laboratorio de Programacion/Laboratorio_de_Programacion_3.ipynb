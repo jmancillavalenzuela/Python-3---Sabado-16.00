{
 "cells": [
  {
   "cell_type": "markdown",
   "metadata": {},
   "source": [
    "# Clase 07. Laboratorio de funciones\n",
    "\n",
    "Con las siguientes actividades se espera que practiques y logres internalizar lo necesario para permitirte usar funciones y procedimientos de buena manera durante lo que resta del curso.\n",
    "\n",
    "Para que este notebook funcione bien, **DEBES** ejecutar las celdas en el orden que corresponde"
   ]
  },
  {
   "cell_type": "markdown",
   "metadata": {},
   "source": [
    "### Comenzando\n",
    "\n",
    "En este primer ejemplo, ya hay una función que está definida. Trata de rutear lo que va a suceder, y después ejecuta la celda para ver si sucede realmente lo que esperabas."
   ]
  },
  {
   "cell_type": "code",
   "execution_count": null,
   "metadata": {
    "collapsed": true
   },
   "outputs": [],
   "source": [
    "def sumarEntre(a, b):\n",
    "    s = 0\n",
    "    for x in range(a, b + 1):\n",
    "        s = s + x\n",
    "    return s\n",
    "\n",
    "print(sumarEntre(3, 7))"
   ]
  },
  {
   "cell_type": "markdown",
   "metadata": {},
   "source": [
    "Como ya sabes (aunque sea de forma teórica), es que las funciones reciben parámetros y retornan un resultado. Además, el valor retornado por la función **reemplaza** a la invocación de ésta.\n",
    "\n",
    "Fíjate en esta llamada a la función ``sumarEntre``"
   ]
  },
  {
   "cell_type": "code",
   "execution_count": null,
   "metadata": {
    "collapsed": true
   },
   "outputs": [],
   "source": [
    "print(sumarEntre(sumarEntre(1,3), sumarEntre(1,5)))"
   ]
  },
  {
   "cell_type": "markdown",
   "metadata": {},
   "source": [
    "**No sigas avanzando en este notebook hasta que entiendas bien cómo funciona lo anterior.**\n",
    "\n",
    "Solamente trata de ver cómo las llamadas a las funciones se van resolviendo desde adentro hacia afuera. En este caso, el resultado de las primeras dos llamadas son los valores que le llegarán a la tercera invocación de la función."
   ]
  },
  {
   "cell_type": "markdown",
   "metadata": {},
   "source": [
    "## Veamos cómo sigues\n",
    "\n",
    "Ahora te vamos a entregar un procedimiento ya escrito, y la idea es que lo uses.\n",
    "\n",
    "El procedimiento recibe un número como parámetro y escribe por pantalla esa cantidad de asteriscos (*).\n",
    "\n",
    "Escribe un trozo de código que, usando el procedimiento, imprima por pantalla esto:\n",
    "\n",
    "    *\n",
    "    **\n",
    "    ***\n",
    "    ****\n",
    "    ***\n",
    "    **\n",
    "    *"
   ]
  },
  {
   "cell_type": "code",
   "execution_count": null,
   "metadata": {
    "collapsed": true
   },
   "outputs": [],
   "source": [
    "def escribir_asteriscos(n):\n",
    "    s = \"\"\n",
    "    for i in range(n):\n",
    "        s = s + \"*\"\n",
    "    print(s)\n",
    "    \n",
    "# Escribe tu código acá!"
   ]
  },
  {
   "cell_type": "markdown",
   "metadata": {},
   "source": [
    "## Hagamos lo mismo, de otra forma\n",
    "\n",
    "Ahora, en vez de tener un procedimiento que escribe directamente, vas a tener una función que retorna los asteriscos como un string"
   ]
  },
  {
   "cell_type": "code",
   "execution_count": null,
   "metadata": {
    "collapsed": true
   },
   "outputs": [],
   "source": [
    "def obtener_asteriscos(n):\n",
    "    s = \"\"\n",
    "    for i in range(n):\n",
    "        s = s + \"*\"\n",
    "    return s\n",
    "    \n",
    "# Escribe tu código acá!"
   ]
  },
  {
   "cell_type": "markdown",
   "metadata": {},
   "source": [
    "## Sin parámetros\n",
    "\n",
    "Hay veces en que el procedimiento o función que estamos escribiendo no requiere parámetros (esto es más común al escribir procedimientos).\n",
    "\n",
    "Esto generalmente se utiliza cuando sabemos con claridad qué tiene que hacer el procedimiento, y definimos estos procedimientos para ordenar el código y evitar escribir todo en el mismo lugar (dividir para conquistar!)\n",
    "\n",
    "En este caso, se hace de esta forma:"
   ]
  },
  {
   "cell_type": "code",
   "execution_count": null,
   "metadata": {
    "collapsed": true
   },
   "outputs": [],
   "source": [
    "def un_procedimiento():\n",
    "    for i in range(3):\n",
    "        print(\"Este es el mensaje\", i)\n",
    "        \n",
    "# Llamamos al procedimiento\n",
    "un_procedimiento()"
   ]
  },
  {
   "cell_type": "markdown",
   "metadata": {},
   "source": [
    "# Desafío 0\n",
    "\n",
    "Escribe las siguientes funciones:\n",
    "* ingresar_numero(): esta función debe preguntar un número desde el teclado y retornarlo.\n",
    "* procesar(n): esta función debe analizar si es que el número que le pasan como parámetro es divisible por 7. Si es que es así debe retornar ``True``. En caso contrario debe retornar ``False``.\n",
    "* escribir_resultado(r): esta función debe analizar el valor que le entregan en el parámetro ``r`` y escribir un mensaje por la pantalla."
   ]
  },
  {
   "cell_type": "code",
   "execution_count": null,
   "metadata": {
    "collapsed": true
   },
   "outputs": [],
   "source": [
    "# Escribe acá tu código\n",
    "def ingresar_numero():\n",
    "    numero=int(input(\"Ingrese un numero\"))\n",
    "    return numero\n",
    "    \n",
    "\n"
   ]
  },
  {
   "cell_type": "code",
   "execution_count": 1,
   "metadata": {
    "collapsed": false
   },
   "outputs": [
    {
     "ename": "NameError",
     "evalue": "name 'ingresar_numero' is not defined",
     "output_type": "error",
     "traceback": [
      "\u001b[0;31m---------------------------------------------------------------------------\u001b[0m",
      "\u001b[0;31mNameError\u001b[0m                                 Traceback (most recent call last)",
      "\u001b[0;32m<ipython-input-1-92491369d017>\u001b[0m in \u001b[0;36m<module>\u001b[0;34m()\u001b[0m\n\u001b[1;32m      6\u001b[0m \u001b[1;33m\u001b[0m\u001b[0m\n\u001b[1;32m      7\u001b[0m \u001b[1;31m# Llamamos al main para iniciar el programa\u001b[0m\u001b[1;33m\u001b[0m\u001b[1;33m\u001b[0m\u001b[0m\n\u001b[0;32m----> 8\u001b[0;31m \u001b[0mmain\u001b[0m\u001b[1;33m(\u001b[0m\u001b[1;33m)\u001b[0m\u001b[1;33m\u001b[0m\u001b[0m\n\u001b[0m",
      "\u001b[0;32m<ipython-input-1-92491369d017>\u001b[0m in \u001b[0;36mmain\u001b[0;34m()\u001b[0m\n\u001b[1;32m      1\u001b[0m \u001b[1;31m# Desde acá llamamos a las funciones que escribiste arriba\u001b[0m\u001b[1;33m\u001b[0m\u001b[1;33m\u001b[0m\u001b[0m\n\u001b[1;32m      2\u001b[0m \u001b[1;32mdef\u001b[0m \u001b[0mmain\u001b[0m\u001b[1;33m(\u001b[0m\u001b[1;33m)\u001b[0m\u001b[1;33m:\u001b[0m\u001b[1;33m\u001b[0m\u001b[0m\n\u001b[0;32m----> 3\u001b[0;31m     \u001b[0mn\u001b[0m \u001b[1;33m=\u001b[0m \u001b[0mingresar_numero\u001b[0m\u001b[1;33m(\u001b[0m\u001b[1;33m)\u001b[0m\u001b[1;33m\u001b[0m\u001b[0m\n\u001b[0m\u001b[1;32m      4\u001b[0m     \u001b[0mr\u001b[0m \u001b[1;33m=\u001b[0m \u001b[0mprocesar\u001b[0m\u001b[1;33m(\u001b[0m\u001b[0mn\u001b[0m\u001b[1;33m)\u001b[0m\u001b[1;33m\u001b[0m\u001b[0m\n\u001b[1;32m      5\u001b[0m     \u001b[0mescribir_resultado\u001b[0m\u001b[1;33m(\u001b[0m\u001b[0mr\u001b[0m\u001b[1;33m)\u001b[0m\u001b[1;33m\u001b[0m\u001b[0m\n",
      "\u001b[0;31mNameError\u001b[0m: name 'ingresar_numero' is not defined"
     ]
    }
   ],
   "source": [
    "# Desde acá llamamos a las funciones que escribiste arriba \n",
    "def main():\n",
    "    n = ingresar_numero()\n",
    "    r = procesar(n)\n",
    "    escribir_resultado(r)\n",
    "    \n",
    "# Llamamos al main para iniciar el programa\n",
    "main()"
   ]
  },
  {
   "cell_type": "markdown",
   "metadata": {},
   "source": [
    "# Desafío 1\n",
    "\n",
    "Completa la función ``es_bisiesto``, para que retorne ``True`` o ``False``, dependiendo si el año que se pasa por parámetro corresponde a un año bisiesto.\n",
    "\n",
    "Si es que no sabes qué es un año bisiesto, te recomiendo que veas esto: https://es.wikipedia.org/wiki/A%C3%B1o_bisiesto"
   ]
  },
  {
   "cell_type": "code",
   "execution_count": null,
   "metadata": {
    "collapsed": true
   },
   "outputs": [],
   "source": [
    "# Escribe tu código acá\n",
    "def es_bisiesto(año):\n",
    "    return True\n",
    "\n",
    "for a in range(1995, 2011):\n",
    "    if es_bisiesto(a):\n",
    "        print(\"El año\",a,\"es bisiesto\")\n",
    "    else:\n",
    "        print(\"El año\",a,\"NO es bisiesto\")"
   ]
  },
  {
   "cell_type": "markdown",
   "metadata": {},
   "source": [
    "# Desafío 2\n",
    "\n",
    "Completa las funciones ``dias_en_el_mes`` y ``nombre_del_mes`` de acuerdo a los comentarios escritos arriba de cada función.\n",
    "\n",
    "Una vez realizado esto, puedes ejecutar las dos celdas siguientes.\n",
    "\n",
    "Para probar que tus funciones hacen lo que tienen que hacer, usaremos una instrucción nueva: ``assert``. Esto nos permitirá comprobar el resultado que entregan tus funciones contra resultados conocidos"
   ]
  },
  {
   "cell_type": "code",
   "execution_count": null,
   "metadata": {
    "collapsed": true
   },
   "outputs": [],
   "source": [
    "#\n",
    "# Esta función debe retornar la cantidad de dias que tiene el mes indicado en el año indicado.\n",
    "# Como bien sabes, los meses tienen diferentes cantidades de dias, y además existen los \n",
    "# años bisiestos\n",
    "# Toma todo esto en consideración para que lo que retorne la función sea lo correcto.\n",
    "# El parámetro ``mes`` indica el número del mes (1 es enero, 2 es febrero, etc)\n",
    "#\n",
    "def dias_en_el_mes(mes, año):\n",
    "    return 31\n",
    "\n",
    "assert dias_en_el_mes(1, 2018) == 31\n",
    "assert dias_en_el_mes(2, 2018) == 28\n",
    "assert dias_en_el_mes(2, 2016) == 29\n",
    "assert dias_en_el_mes(2, 2000) == 29\n",
    "assert dias_en_el_mes(2, 1900) == 28\n",
    "assert dias_en_el_mes(5, 2018) == 31\n",
    "assert dias_en_el_mes(11, 2018) == 30"
   ]
  },
  {
   "cell_type": "code",
   "execution_count": null,
   "metadata": {
    "collapsed": true
   },
   "outputs": [],
   "source": [
    "# Esta función recibe el número de un mes (1 es enero, 2 es febrero, etc) y retorna el nombre\n",
    "# de dicho mes (Ene, Feb, Mar, etc)\n",
    "#\n",
    "def nombre_del_mes(mes):\n",
    "    return \"Ene\"\n",
    "\n",
    "assert nombre_del_mes(1) == \"Ene\"\n",
    "assert nombre_del_mes(7) == \"Jul\"\n",
    "assert nombre_del_mes(6) == \"Jun\""
   ]
  },
  {
   "cell_type": "code",
   "execution_count": null,
   "metadata": {
    "collapsed": true
   },
   "outputs": [],
   "source": [
    "# Este procedimiento escribe por pantalla el calendario del año indicado,\n",
    "# usando las funciones definidas más arriba\n",
    "#\n",
    "def escribir_calendario(año):\n",
    "    print(\"Calendario\", año)\n",
    "    \n",
    "    for mes in range(1, 13):\n",
    "        s = \"\"\n",
    "        s = s + nombre_del_mes(mes)\n",
    "        s = s + \": \"\n",
    "        dias = dias_en_el_mes(mes, año)\n",
    "        for dia in range(1, dias + 1):\n",
    "            s = s + str(dia) + \" \"\n",
    "        \n",
    "        print(s)"
   ]
  },
  {
   "cell_type": "code",
   "execution_count": null,
   "metadata": {
    "collapsed": true
   },
   "outputs": [],
   "source": [
    "# Este es el programa principal, que simplemente llama al procedimiento\n",
    "#\n",
    "for a in range(2015,2017):\n",
    "    escribir_calendario(a)"
   ]
  },
  {
   "cell_type": "markdown",
   "metadata": {},
   "source": [
    "# Desafío 3\n",
    "\n",
    "Imagina lo siguiente: quieres correr una distancia ``d``. Pero una vez que llegas a la mitad de tu recorrido, te das cuenta que aun te falta la mitad, así que decides incrementar tu velocidad en un 50%. Pero una vez que llegas a la mitad de lo que te faltaba, te das cuenta que aun te falta mucho, así que vuelves a aumentar tu velocidad en un 50%. Y así sucesivamente.\n",
    "\n",
    "¿Cuánto tiempo te demorará recorrer la distancia?\n",
    "\n",
    "Todos sabemos que $velocidad = \\frac{distancia}{tiempo}$, por lo que $tiempo = \\frac{distancia}{velocidad}$.\n",
    "\n",
    "Completa las funciones indicadas.\n",
    "\n",
    "Un ejemplo de ejecución (con distancia=100 y velocidad=2):\n",
    "\n",
    "    Vamos a comenzar con d= 100 y v= 2\n",
    "    En recorrer 50.0 me demoro 25.0 con velocidad 2\n",
    "    En recorrer 25.0 me demoro 8.333333333333334 con velocidad 3.0\n",
    "    En recorrer 12.5 me demoro 2.7777777777777777 con velocidad 4.5\n",
    "    En recorrer 6.25 me demoro 0.9259259259259259 con velocidad 6.75\n",
    "    En recorrer 3.125 me demoro 0.30864197530864196 con velocidad 10.125\n",
    "    En recorrer 1.5625 me demoro 0.102880658436214 con velocidad 15.1875\n",
    "    En recorrer 0.78125 me demoro 0.03429355281207133 con velocidad 22.78125\n",
    "    En recorrer 0.390625 me demoro 0.011431184270690443 con velocidad 34.171875\n",
    "    En recorrer 0.1953125 me demoro 0.0038103947568968147 con velocidad 51.2578125\n",
    "    En recorrer 0.09765625 me demoro 0.0012701315856322715 con velocidad 76.88671875\n",
    "    En recorrer 0.048828125 me demoro 0.0004233771952107572 con velocidad 115.330078125\n",
    "    En recorrer 0.0244140625 me demoro 0.00014112573173691905 con velocidad 172.9951171875\n",
    "    En recorrer 0.01220703125 me demoro 4.704191057897302e-05 con velocidad 259.49267578125\n",
    "    En recorrer 0.006103515625 me demoro 1.5680636859657674e-05 con velocidad 389.239013671875\n",
    "    Tiempo total 37.49999215968157\n"
   ]
  },
  {
   "cell_type": "code",
   "execution_count": null,
   "metadata": {
    "collapsed": true
   },
   "outputs": [],
   "source": [
    "# Completa la función calcular_tiempo.\n",
    "# Debe retornar el tiempo que demora recorrer la distancia \"d\" a velocidad constante \"v\"\n",
    "#\n",
    "def calcular_tiempo(d, v):\n",
    "    return 0\n",
    "\n",
    "# Completa la función dividir distancia\n",
    "# Debe retornar la fracción de la distancia que se ha recorrido, respecto a la distancia\n",
    "# (O sea, hay que dividir distancia en 2)\n",
    "#\n",
    "def dividir_distancia(distancia):\n",
    "    return 0\n",
    "\n",
    "# Completa la función\n",
    "# Recibe la velocidad actual como parámetro, y retorna la nueva velocidad, de acuerdo\n",
    "# al enunciado del problema\n",
    "#\n",
    "def aumentar_velocidad(v):\n",
    "    return 0\n",
    "\n",
    "# Realiza el proceso de iterar, tal como dice el enunciado (recorre la mitad de la\n",
    "# distancia, acelera).\n",
    "# Este proceso no se puede repetir infinitamente: debe ser controlado para que no se\n",
    "# convierta en un ciclo infinito. \n",
    "# Ten cuidado con eso. Repite el ciclo mientras la distancia remanente que te quede\n",
    "# sea > a 0.01.\n",
    "# Debe retornar el tiempo total usado en recorrer la distancia.\n",
    "#\n",
    "def iterar(d, v):\n",
    "    tt = 0\n",
    "    return tt\n",
    "        \n",
    "def main():    \n",
    "    d = 100\n",
    "    v = 2\n",
    "    print(\"Vamos a comenzar con d=\",d,\"y v=\", v)    \n",
    "    tiempo = iterar(d, v)\n",
    "    print(\"Tiempo total\", tiempo)\n",
    "\n",
    "# Antes de ejecutar el código principal, vamos a probar que las funciones\n",
    "# auxiliares realmente retornan lo que deben retornar\n",
    "#\n",
    "assert calcular_tiempo(100, 100) == 1\n",
    "assert calcular_tiempo(10, 1) == 10\n",
    "assert calcular_tiempo(50, 2) == 25\n",
    "assert dividir_distancia(10) == 5\n",
    "assert dividir_distancia(15) == 7.5\n",
    "\n",
    "# Ahora si!\n",
    "main()"
   ]
  },
  {
   "cell_type": "markdown",
   "metadata": {},
   "source": [
    "# Desafío 4\n",
    "\n",
    "Construye una función llamada ``esPrimo`` que recibe como parámetro un número, y retorna ``True`` o ``False`` dependiendo si el número es o no primo.\n",
    "\n",
    "Después, usa la función ``esPrimo`` dentro de un ciclo para escribir por pantalla los números primos entre 3 y 100."
   ]
  },
  {
   "cell_type": "code",
   "execution_count": null,
   "metadata": {
    "collapsed": true
   },
   "outputs": [],
   "source": []
  }
 ],
 "metadata": {
  "kernelspec": {
   "display_name": "Python 3",
   "language": "python",
   "name": "python3"
  },
  "language_info": {
   "codemirror_mode": {
    "name": "ipython",
    "version": 3
   },
   "file_extension": ".py",
   "mimetype": "text/x-python",
   "name": "python",
   "nbconvert_exporter": "python",
   "pygments_lexer": "ipython3",
   "version": "3.6.0"
  }
 },
 "nbformat": 4,
 "nbformat_minor": 2
}
